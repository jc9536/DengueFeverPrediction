{
 "cells": [
  {
   "cell_type": "markdown",
   "id": "vMap3TCmNPcc",
   "metadata": {
    "execution": {},
    "id": "vMap3TCmNPcc"
   },
   "source": [
    "Dengue Fever is a mosquito-borne viral infection that causes fever, rash, headache, and muscle pain. It is most common in tropical and sub-tropical regions, where climate conditions support mosquito populations.\n",
    "\n",
    "DataDriven is a Kaggle-like website that collects data sets and creates challenges. The [DengAI challenge from DataDriven](https://www.drivendata.org/competitions/44/dengai-predicting-disease-spread/data/) has collected data on dengue cases and environmental variables such as temperature and precipitation.\n",
    "\n",
    "Make an accout on DataDriven and download the DengAI data. Look at the competition information to understand the features of the data. \n",
    "\n",
    "Load the training data. Remove feature columns that we won't use for prediction: city, year, and week start date. Replace any missing values with mean values. \n"
   ]
  },
  {
   "cell_type": "code",
   "execution_count": 126,
   "id": "PCqZn7UANPce",
   "metadata": {
    "colab": {
     "base_uri": "https://localhost:8080/"
    },
    "execution": {},
    "id": "PCqZn7UANPce",
    "outputId": "4d55c11e-7f41-4f78-f9ec-d7fe8023b04c",
    "pycharm": {
     "name": "#%%\n"
    }
   },
   "outputs": [],
   "source": [
    "# Import packages\n",
    "import pandas as pd \n",
    "import numpy as np \n",
    "import matplotlib.pyplot as plt\n",
    "import seaborn as sns\n",
    "from sklearn.preprocessing import StandardScaler\n",
    "from sklearn.model_selection import train_test_split\n",
    "from sklearn.linear_model import LinearRegression\n",
    "from sklearn.linear_model import PoissonRegressor\n",
    "from sklearn.metrics import mean_absolute_error\n"
   ]
  },
  {
   "cell_type": "code",
   "execution_count": 127,
   "id": "1bf1b25f",
   "metadata": {},
   "outputs": [],
   "source": [
    "# Import train and test data \n",
    "train_path = 'data/dengue_features_train.csv'\n",
    "test_path = 'data/dengue_features_test.csv'\n",
    "labels_path = 'data/dengue_labels_train.csv'\n",
    "train_df = pd.read_csv(train_path)\n",
    "test_df = pd.read_csv(test_path)\n",
    "labels_df = pd.read_csv(labels_path)"
   ]
  },
  {
   "cell_type": "code",
   "execution_count": 128,
   "id": "27b7544b",
   "metadata": {},
   "outputs": [],
   "source": [
    "# Remove feature column that will not be used for prediction: city, year and week start date from train data \n",
    "train_df = train_df.drop(['city', 'year', 'week_start_date'], axis=1)\n",
    "test_df = test_df.drop(['city', 'year', 'week_start_date'], axis=1)\n",
    "labels_df = labels_df.drop(['city', 'year', 'weekofyear'], axis=1)"
   ]
  },
  {
   "cell_type": "code",
   "execution_count": 129,
   "id": "90536a2b",
   "metadata": {},
   "outputs": [],
   "source": [
    "# Find columns with missing values to find mean and impute \n",
    "null_col = train_df.columns[train_df.isnull().any()].tolist()\n",
    "\n",
    "# Fill null values with the mean value of the column \n",
    "for col in null_col:\n",
    "    train_df[col].fillna(int(train_df[col].mean()), inplace=True)"
   ]
  },
  {
   "cell_type": "markdown",
   "id": "Rauj0P6EbNmz",
   "metadata": {
    "id": "Rauj0P6EbNmz"
   },
   "source": [
    "Divide the training data into a training set (80% of the data) and a validation set (20%) *Hint: make sure you do these the same way for the features and labels*. You will use the validation set to compare performance across models. "
   ]
  },
  {
   "cell_type": "code",
   "execution_count": 130,
   "id": "M0XopmfSu7Ek",
   "metadata": {
    "id": "M0XopmfSu7Ek"
   },
   "outputs": [],
   "source": [
    "# Split train data \n",
    "X_train, X_test, y_train, y_test = train_test_split(train_df, labels_df, test_size=0.2, random_state=0)"
   ]
  },
  {
   "cell_type": "markdown",
   "id": "0Q1GTTR8imTs",
   "metadata": {
    "execution": {},
    "id": "0Q1GTTR8imTs"
   },
   "source": [
    "Train a linear regression model on the training data and evaluate its performance on the validation set according to the mean absolute error. Make a scatter plot of the predicted and true case counts for the validation set.  \n"
   ]
  },
  {
   "cell_type": "code",
   "execution_count": 131,
   "id": "fpXH4gnm7hzu",
   "metadata": {
    "colab": {
     "base_uri": "https://localhost:8080/",
     "height": 352
    },
    "id": "fpXH4gnm7hzu",
    "outputId": "bd9dc777-a00e-48c3-fb25-10bd23753d82"
   },
   "outputs": [
    {
     "name": "stdout",
     "output_type": "stream",
     "text": [
      "Mean Absolute Error for Linear Regression Model: 22.96\n"
     ]
    }
   ],
   "source": [
    "# Data Preprocessing\n",
    "sc_x = StandardScaler()\n",
    "X_train = sc_x.fit_transform(X_train)\n",
    "X_test = sc_x.transform(X_test)\n",
    "\n",
    "# Train a linear regression model on the training data \n",
    "model = LinearRegression()\n",
    "model.fit(X_train, y_train)\n",
    "\n",
    "# Prediction values \n",
    "y_pred = model.predict(X_test)\n",
    "\n",
    "# Validation\n",
    "MAE = mean_absolute_error(y_test, y_pred)\n",
    "print(f\"Mean Absolute Error for Linear Regression Model: {MAE:.2f}\")\n"
   ]
  },
  {
   "cell_type": "code",
   "execution_count": 132,
   "id": "314aaef8",
   "metadata": {},
   "outputs": [
    {
     "data": {
      "image/png": "[encoded data removed]",
      "text/plain": [
       "<Figure size 640x480 with 1 Axes>"
      ]
     },
     "metadata": {},
     "output_type": "display_data"
    }
   ],
   "source": [
    "# Create Scatterplot \n",
    "\n",
    "y_pred = pd.DataFrame(y_pred, columns=['total_cases'])\n",
    "\n",
    "# Set seaborn figure\n",
    "sns.set(style=\"darkgrid\")\n",
    "\n",
    "# Scatterplot \n",
    "sns.scatterplot(x=y_test['total_cases'], y=y_pred['total_cases'])\n",
    "plt.xlabel(\"True Case Counts\")\n",
    "plt.ylabel(\"Predicted Case Counts\")\n",
    "plt.title(\"Predicted vs True Case Counts\")\n",
    "plt.show()"
   ]
  },
  {
   "cell_type": "markdown",
   "id": "7OZbW4DpDtT5",
   "metadata": {
    "id": "7OZbW4DpDtT5"
   },
   "source": [
    "**Extra Credit**: Use [scikit-learn's Poisson GLM method](https://scikit-learn.org/stable/modules/generated/sklearn.linear_model.PoissonRegressor.html) on this data. Report mean absolute error on the validation set. Explain why this model is more appropriate than linear regression for this task. \n"
   ]
  },
  {
   "cell_type": "markdown",
   "id": "a88cca68",
   "metadata": {},
   "source": []
  },
  {
   "cell_type": "code",
   "execution_count": 137,
   "id": "srDev3uYAS3P",
   "metadata": {
    "colab": {
     "base_uri": "https://localhost:8080/",
     "height": 456
    },
    "id": "srDev3uYAS3P",
    "outputId": "105058f3-6338-400e-b47a-11f7ee1dd99a"
   },
   "outputs": [
    {
     "name": "stdout",
     "output_type": "stream",
     "text": [
      "Mean Absolute Error for Poisson GLM model: 20.38\n"
     ]
    }
   ],
   "source": [
    "glm_model = PoissonRegressor(alpha=1.0, max_iter=100)\n",
    "glm_model.fit(X_train, y_train.values.reshape(-1))\n",
    "y_pred = glm_model.predict(X_test)\n",
    "GLM_MAE = mean_absolute_error(y_test, y_pred)\n",
    "print(f\"Mean Absolute Error for Poisson GLM model: {GLM_MAE:.2f}\")"
   ]
  },
  {
   "cell_type": "markdown",
   "id": "cd51040e",
   "metadata": {},
   "source": [
    "Here you will train an artificial neural network to perform this task. You can use the [multi-layer perceptron model](https://scikit-learn.org/stable/modules/generated/sklearn.neural_network.MLPRegressor.html), which is a simple feedforward neural network. You can vary the architecture of the network using the hidden_layer_sizes parameter. \n",
    "\n",
    "Try out at least 3 different depths (number of hidden layers) and 3 different widths (number of units in each layer). Pick the model that performs the best on the validation set and upload its predictions on the test set to the DataDriven competition page according to the provided submission format. Include a screenshot of your performance. Do the same for the model that performed the worst on the validation set. Does validation performance relate to test performance for you? \n",
    "\n",
    "*Note: the submission requires total_cases be an integer*"
   ]
  },
  {
   "cell_type": "code",
   "execution_count": null,
   "id": "88831958",
   "metadata": {},
   "outputs": [],
   "source": []
  },
  {
   "cell_type": "code",
   "execution_count": null,
   "id": "1cd1f0c2",
   "metadata": {},
   "outputs": [],
   "source": []
  },
  {
   "attachments": {},
   "cell_type": "markdown",
   "id": "e18e1b4c",
   "metadata": {},
   "source": []
  }
 ],
 "metadata": {
  "colab": {
   "provenance": []
  },
  "kernelspec": {
   "display_name": "Python 3 (ipykernel)",
   "language": "python",
   "name": "python3"
  },
  "language_info": {
   "codemirror_mode": {
    "name": "ipython",
    "version": 3
   },
   "file_extension": ".py",
   "mimetype": "text/x-python",
   "name": "python",
   "nbconvert_exporter": "python",
   "pygments_lexer": "ipython3",
   "version": "3.9.12"
  },
  "widgets": {
   "application/vnd.jupyter.widget-state+json": {
    "87066091ea984646804f20263405be5e": {
     "model_module": "@jupyter-widgets/base",
     "model_module_version": "1.2.0",
     "model_name": "LayoutModel",
     "state": {
      "_model_module": "@jupyter-widgets/base",
      "_model_module_version": "1.2.0",
      "_model_name": "LayoutModel",
      "_view_count": null,
      "_view_module": "@jupyter-widgets/base",
      "_view_module_version": "1.2.0",
      "_view_name": "LayoutView",
      "align_content": null,
      "align_items": null,
      "align_self": null,
      "border": null,
      "bottom": null,
      "display": null,
      "flex": null,
      "flex_flow": null,
      "grid_area": null,
      "grid_auto_columns": null,
      "grid_auto_flow": null,
      "grid_auto_rows": null,
      "grid_column": null,
      "grid_gap": null,
      "grid_row": null,
      "grid_template_areas": null,
      "grid_template_columns": null,
      "grid_template_rows": null,
      "height": null,
      "justify_content": null,
      "justify_items": null,
      "left": null,
      "margin": null,
      "max_height": null,
      "max_width": null,
      "min_height": null,
      "min_width": null,
      "object_fit": null,
      "object_position": null,
      "order": null,
      "overflow": null,
      "overflow_x": null,
      "overflow_y": null,
      "padding": null,
      "right": null,
      "top": null,
      "visibility": null,
      "width": null
     }
    },
    "8cab2370ca5d41c5b7ce981a151cc533": {
     "model_module": "@jupyter-widgets/output",
     "model_module_version": "1.0.0",
     "model_name": "OutputModel",
     "state": {
      "_dom_classes": [],
      "_model_module": "@jupyter-widgets/output",
      "_model_module_version": "1.0.0",
      "_model_name": "OutputModel",
      "_view_count": null,
      "_view_module": "@jupyter-widgets/output",
      "_view_module_version": "1.0.0",
      "_view_name": "OutputView",
      "layout": "IPY_MODEL_ccb9992f060944328f1852d7abcbf194",
      "msg_id": "",
      "outputs": [
       {
        "name": "stdout",
        "output_type": "stream",
        "text": [
         "Video available at https://youtube.com/watch?v=\n"
        ]
       },
       {
        "data": {
         "text/html": "\n        <iframe\n            width=\"854\"\n            height=\"480\"\n            src=\"https://www.youtube.com/embed/?fs=1&rel=0\"\n            frameborder=\"0\"\n            allowfullscreen\n        ></iframe>\n        ",
         "text/plain": "<IPython.lib.display.YouTubeVideo at 0x7fc0e09ab670>"
        },
        "metadata": {},
        "output_type": "display_data"
       }
      ]
     }
    },
    "a50c29e1c221457c8986dde6910db4c6": {
     "model_module": "@jupyter-widgets/controls",
     "model_module_version": "1.5.0",
     "model_name": "TabModel",
     "state": {
      "_dom_classes": [],
      "_model_module": "@jupyter-widgets/controls",
      "_model_module_version": "1.5.0",
      "_model_name": "TabModel",
      "_titles": {
       "0": "Youtube",
       "1": "Bilibili"
      },
      "_view_count": null,
      "_view_module": "@jupyter-widgets/controls",
      "_view_module_version": "1.5.0",
      "_view_name": "TabView",
      "box_style": "",
      "children": [
       "IPY_MODEL_8cab2370ca5d41c5b7ce981a151cc533",
       "IPY_MODEL_a90fb91e2b384905bc5671aee34a2da2"
      ],
      "layout": "IPY_MODEL_87066091ea984646804f20263405be5e",
      "selected_index": 0
     }
    },
    "a90fb91e2b384905bc5671aee34a2da2": {
     "model_module": "@jupyter-widgets/output",
     "model_module_version": "1.0.0",
     "model_name": "OutputModel",
     "state": {
      "_dom_classes": [],
      "_model_module": "@jupyter-widgets/output",
      "_model_module_version": "1.0.0",
      "_model_name": "OutputModel",
      "_view_count": null,
      "_view_module": "@jupyter-widgets/output",
      "_view_module_version": "1.0.0",
      "_view_name": "OutputView",
      "layout": "IPY_MODEL_f915cc030993449b87a51f86861cf812",
      "msg_id": "",
      "outputs": [
       {
        "name": "stdout",
        "output_type": "stream",
        "text": [
         "Video available at https://www.bilibili.com/video/\n"
        ]
       },
       {
        "data": {
         "text/html": "\n        <iframe\n            width=\"854\"\n            height=\"480\"\n            src=\"https://player.bilibili.com/player.html?bvid=&page=1?fs=1\"\n            frameborder=\"0\"\n            allowfullscreen\n        ></iframe>\n        ",
         "text/plain": "<__main__.BiliVideo at 0x7fc0dff18400>"
        },
        "metadata": {},
        "output_type": "display_data"
       }
      ]
     }
    },
    "ccb9992f060944328f1852d7abcbf194": {
     "model_module": "@jupyter-widgets/base",
     "model_module_version": "1.2.0",
     "model_name": "LayoutModel",
     "state": {
      "_model_module": "@jupyter-widgets/base",
      "_model_module_version": "1.2.0",
      "_model_name": "LayoutModel",
      "_view_count": null,
      "_view_module": "@jupyter-widgets/base",
      "_view_module_version": "1.2.0",
      "_view_name": "LayoutView",
      "align_content": null,
      "align_items": null,
      "align_self": null,
      "border": null,
      "bottom": null,
      "display": null,
      "flex": null,
      "flex_flow": null,
      "grid_area": null,
      "grid_auto_columns": null,
      "grid_auto_flow": null,
      "grid_auto_rows": null,
      "grid_column": null,
      "grid_gap": null,
      "grid_row": null,
      "grid_template_areas": null,
      "grid_template_columns": null,
      "grid_template_rows": null,
      "height": null,
      "justify_content": null,
      "justify_items": null,
      "left": null,
      "margin": null,
      "max_height": null,
      "max_width": null,
      "min_height": null,
      "min_width": null,
      "object_fit": null,
      "object_position": null,
      "order": null,
      "overflow": null,
      "overflow_x": null,
      "overflow_y": null,
      "padding": null,
      "right": null,
      "top": null,
      "visibility": null,
      "width": null
     }
    },
    "f915cc030993449b87a51f86861cf812": {
     "model_module": "@jupyter-widgets/base",
     "model_module_version": "1.2.0",
     "model_name": "LayoutModel",
     "state": {
      "_model_module": "@jupyter-widgets/base",
      "_model_module_version": "1.2.0",
      "_model_name": "LayoutModel",
      "_view_count": null,
      "_view_module": "@jupyter-widgets/base",
      "_view_module_version": "1.2.0",
      "_view_name": "LayoutView",
      "align_content": null,
      "align_items": null,
      "align_self": null,
      "border": null,
      "bottom": null,
      "display": null,
      "flex": null,
      "flex_flow": null,
      "grid_area": null,
      "grid_auto_columns": null,
      "grid_auto_flow": null,
      "grid_auto_rows": null,
      "grid_column": null,
      "grid_gap": null,
      "grid_row": null,
      "grid_template_areas": null,
      "grid_template_columns": null,
      "grid_template_rows": null,
      "height": null,
      "justify_content": null,
      "justify_items": null,
      "left": null,
      "margin": null,
      "max_height": null,
      "max_width": null,
      "min_height": null,
      "min_width": null,
      "object_fit": null,
      "object_position": null,
      "order": null,
      "overflow": null,
      "overflow_x": null,
      "overflow_y": null,
      "padding": null,
      "right": null,
      "top": null,
      "visibility": null,
      "width": null
     }
    }
   }
  }
 },
 "nbformat": 4,
 "nbformat_minor": 5
}
